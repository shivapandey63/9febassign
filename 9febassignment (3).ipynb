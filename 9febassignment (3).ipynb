{
 "cells": [
  {
   "cell_type": "code",
   "execution_count": null,
   "id": "06ee503b-46a9-4862-a43f-9e0a08ed1a1f",
   "metadata": {},
   "outputs": [],
   "source": [
    "#Answer-1\n",
    "\n",
    "class vehicle:\n",
    "    def __init__(self, name, speed, average):\n",
    "        \n",
    "        self.__name=name\n",
    "        self.__speed=0\n",
    "        self.__average=average\n",
    "        \n",
    "    def set_speed(self,speed):\n",
    "        self.__speed=0 if speed < 0 else speed\n",
    "        \n",
    "    def get_speed(self):\n",
    "        return self.__speed"
   ]
  },
  {
   "cell_type": "code",
   "execution_count": null,
   "id": "76cf523f-24e5-4211-9f16-7191217c2a50",
   "metadata": {},
   "outputs": [],
   "source": [
    "c=vehicle(\"BMW\",25,\"average is 45\")"
   ]
  },
  {
   "cell_type": "code",
   "execution_count": null,
   "id": "d3c82f2e-8db7-4b8c-85eb-43df5b088506",
   "metadata": {},
   "outputs": [],
   "source": [
    "c.set_speed(-2345)"
   ]
  },
  {
   "cell_type": "code",
   "execution_count": null,
   "id": "0978dda6-9bfb-45a0-a5ff-c2ab6c33a7dc",
   "metadata": {},
   "outputs": [],
   "source": [
    "c.get_speed()"
   ]
  },
  {
   "cell_type": "code",
   "execution_count": null,
   "id": "8fc672ab-07ea-476d-9dde-ad47b3beb9b7",
   "metadata": {},
   "outputs": [],
   "source": []
  },
  {
   "cell_type": "code",
   "execution_count": 13,
   "id": "e7d3bca8-f7f3-49d1-af25-a21b04fc76d0",
   "metadata": {},
   "outputs": [],
   "source": [
    "#Answer-2\n",
    "\n",
    "class vehicle1:\n",
    "    def test_vehicle1(self):\n",
    "        return \"This is the vehicle parent class\""
   ]
  },
  {
   "cell_type": "code",
   "execution_count": 14,
   "id": "35f31893-78bf-40f8-a3cd-eac7564178bd",
   "metadata": {},
   "outputs": [],
   "source": [
    "class seating_capacity:\n",
    "    def test_seating_capacity(self):\n",
    "        return \"This is the seating capacity in the vehicle\""
   ]
  },
  {
   "cell_type": "code",
   "execution_count": 15,
   "id": "bf031772-cb0c-4a79-8d7d-3338bc4c670c",
   "metadata": {},
   "outputs": [],
   "source": [
    "seating_capacity_obj=seating_capacity()"
   ]
  },
  {
   "cell_type": "code",
   "execution_count": null,
   "id": "9f824db7-981a-4481-a44b-24e6621d40a2",
   "metadata": {},
   "outputs": [],
   "source": []
  },
  {
   "cell_type": "code",
   "execution_count": 16,
   "id": "0a5e0e39-9b22-4147-9737-202c9b1221ea",
   "metadata": {},
   "outputs": [
    {
     "data": {
      "text/plain": [
       "<bound method seating_capacity.test_seating_capacity of <__main__.seating_capacity object at 0x7f49581b7070>>"
      ]
     },
     "execution_count": 16,
     "metadata": {},
     "output_type": "execute_result"
    }
   ],
   "source": [
    "seating_capacity_obj.test_seating_capacity"
   ]
  },
  {
   "cell_type": "code",
   "execution_count": null,
   "id": "dd587fbb-ceb5-4f62-b327-98236efd9e60",
   "metadata": {},
   "outputs": [],
   "source": []
  },
  {
   "cell_type": "markdown",
   "id": "118fc1bd-9843-426b-9787-df99b25cc581",
   "metadata": {},
   "source": [
    "#Answer-3\n",
    "\n",
    "When a class is derived from more than one base class it is called multiple Inheritance. The derived class inherits all the features of the base case. Syntax: Class Base1: Body of the class Class Base2: Body of the class Class Derived(Base1, Base2): Body of the class"
   ]
  },
  {
   "attachments": {},
   "cell_type": "markdown",
   "id": "30037658-db23-4e5f-bcc0-2ca58be736f1",
   "metadata": {},
   "source": [
    "#Answer-5\n",
    "\n",
    "Getter: A method that allows you to access an attribute in a given class. Setter: A method that allows you to set or mutate the value of an attribute in a class"
   ]
  },
  {
   "cell_type": "code",
   "execution_count": 17,
   "id": "fd021aa9-42b1-4f01-8aa2-0f62bb129319",
   "metadata": {},
   "outputs": [],
   "source": [
    "class Label:\n",
    "    def __init__(self, text, font):\n",
    "        self._text = text\n",
    "        self._font = font\n",
    "\n",
    "    def get_text(self):\n",
    "        return self._text\n",
    "\n",
    "    def set_text(self, value):\n",
    "        self._text = value\n",
    "\n",
    "    def get_font(self):\n",
    "        return self._font\n",
    "\n",
    "    def set_font(self, value):\n",
    "        self._font = value"
   ]
  },
  {
   "cell_type": "code",
   "execution_count": null,
   "id": "65d4b61a-011a-4e11-8a52-20c3edc0ef5f",
   "metadata": {},
   "outputs": [],
   "source": []
  },
  {
   "cell_type": "markdown",
   "id": "08e9f45c-4403-4e1e-9c0c-60a69754edf3",
   "metadata": {},
   "source": [
    "#Answer-4\n",
    "\n",
    "Method overriding is an ability of any object-oriented programming language that allows a subclass or child class to provide a specific implementation of a method that is already provided by one of its super-classes or parent classes."
   ]
  },
  {
   "cell_type": "code",
   "execution_count": 20,
   "id": "79294bf7-4b5f-4f70-98a4-c8597a5017a5",
   "metadata": {},
   "outputs": [
    {
     "name": "stdout",
     "output_type": "stream",
     "text": [
      "Inside Parent\n",
      "Inside Child\n"
     ]
    }
   ],
   "source": [
    "\n",
    "class Parent():\n",
    "\t\n",
    "\t# Constructor\n",
    "\tdef __init__(self):\n",
    "\t\tself.value = \"Inside Parent\"\n",
    "\t\t\n",
    "\tdef show(self):\n",
    "\t\tprint(self.value)\n",
    "class Child(Parent):\n",
    "\tdef __init__(self):\n",
    "\t\tself.value = \"Inside Child\"\n",
    "\tdef show(self):\n",
    "\t\tprint(self.value)\n",
    "obj1 = Parent()\n",
    "obj2 = Child()\n",
    "\n",
    "obj1.show()\n",
    "obj2.show()\n"
   ]
  },
  {
   "cell_type": "code",
   "execution_count": null,
   "id": "81b4b3bb-2210-44bb-b59a-e5475c8efd43",
   "metadata": {},
   "outputs": [],
   "source": []
  },
  {
   "cell_type": "code",
   "execution_count": 21,
   "id": "f4a3ac0b-9c19-4e89-ab2e-dea696809347",
   "metadata": {},
   "outputs": [],
   "source": [
    "#####################################################################3"
   ]
  },
  {
   "cell_type": "code",
   "execution_count": null,
   "id": "784e96e1-854f-4b16-94ec-895e9ee36799",
   "metadata": {},
   "outputs": [],
   "source": []
  }
 ],
 "metadata": {
  "kernelspec": {
   "display_name": "Python 3 (ipykernel)",
   "language": "python",
   "name": "python3"
  },
  "language_info": {
   "codemirror_mode": {
    "name": "ipython",
    "version": 3
   },
   "file_extension": ".py",
   "mimetype": "text/x-python",
   "name": "python",
   "nbconvert_exporter": "python",
   "pygments_lexer": "ipython3",
   "version": "3.10.8"
  }
 },
 "nbformat": 4,
 "nbformat_minor": 5
}
